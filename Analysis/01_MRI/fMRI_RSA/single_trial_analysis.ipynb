{
 "cells": [
  {
   "cell_type": "code",
   "execution_count": null,
   "id": "2f6ec37f-0317-423e-9f36-9b2550d1c298",
   "metadata": {},
   "outputs": [],
   "source": [
    "import nibabel as nib\n",
    "import numpy as np\n",
    "import scipy\n",
    "import scipy.io as sio\n",
    "import pandas as pd\n",
    "\n",
    "# for upsampling\n",
    "from slicetime.main import run_slicetime\n",
    "from slicetime.make_image_stack import make_image_stack\n",
    "\n",
    "import os\n",
    "import os.path as op\n",
    "import time\n",
    "import urllib.request\n",
    "from tqdm import tqdm # progress bars\n",
    "from pprint import pprint\n",
    "import warnings\n",
    "warnings.filterwarnings('ignore')\n",
    "\n",
    "from glmsingle.glmsingle import GLM_single"
   ]
  },
  {
   "cell_type": "code",
   "execution_count": null,
   "id": "d41a3a92-f305-4aef-aaf8-082c74a70a0c",
   "metadata": {},
   "outputs": [],
   "source": [
    "base_folder = op.join('D:\\\\', 'Zsuzsa', 'HCCCL', 'miniTRK', 'Results')\n",
    "mri_folder = op.join(base_folder, '01_MRI', 'fMRI_Preproc', 'VER3', 'aligned')\n",
    "design_folder = op.join(base_folder, '02_APS_MRI_Logs', 'single_trials')\n",
    "#subjects = np.loadtxt('test_subjects.txt', dtype=str)\n",
    "subjects = ['991905']\n",
    "print(subjects)"
   ]
  },
  {
   "cell_type": "code",
   "execution_count": null,
   "id": "21f32d70-5ba8-496b-b77b-35f868c1f502",
   "metadata": {},
   "outputs": [],
   "source": [
    "opt = dict()\n",
    "\n",
    "# set important fields for completeness (but these would be enabled by default)\n",
    "opt['wantlibrary'] = 0\n",
    "opt['wantglmdenoise'] = 0\n",
    "opt['wantfracridge'] = 0\n",
    "\n",
    "# for the purpose of this example we will keep the relevant outputs in memory\n",
    "# and also save them to the disk\n",
    "opt['wantfileoutputs'] = [1,0,0,0]\n",
    "opt['wantmemoryoutputs'] = [1,0,0,0]\n",
    "\n",
    "# running python GLMsingle involves creating a GLM_single object\n",
    "# and then running the procedure using the .fit() routine\n",
    "glmsingle_obj = GLM_single(opt)\n",
    "\n",
    "# visualize all the hyperparameters\n",
    "pprint(glmsingle_obj.params)"
   ]
  },
  {
   "cell_type": "markdown",
   "id": "de39adab-33eb-4cec-9e69-971c9f1b2d47",
   "metadata": {},
   "source": [
    "# OBJECT ENCODING"
   ]
  },
  {
   "cell_type": "code",
   "execution_count": null,
   "id": "18a60b61-7f72-4f7a-9497-dacea1ee1da5",
   "metadata": {},
   "outputs": [],
   "source": [
    "task = 'OBJ'\n",
    "acq = 'ENC'\n",
    "stimdur = 3.0\n",
    "tr = 1"
   ]
  },
  {
   "cell_type": "markdown",
   "id": "e1f70f22-8257-4879-a96c-9753900d1cb7",
   "metadata": {
    "tags": []
   },
   "source": [
    "## Upsample Data"
   ]
  },
  {
   "cell_type": "code",
   "execution_count": null,
   "id": "d0e675a7-c54e-487b-95e3-b1630137cc73",
   "metadata": {},
   "outputs": [],
   "source": [
    "tr_old = 1.84\n",
    "tr_new = tr\n",
    "time_dim = 3\n",
    "offset = 0\n",
    "n_slices = 80\n",
    "\n",
    "for subj in subjects:\n",
    "    \n",
    "    for r in ['1','2']:\n",
    "        start_time = time.time()\n",
    "        \n",
    "        original_fname = subj + '_' + task + '_' + acq + '_' + r + '_To_ObjEnc1MeanFunc.nii.gz'\n",
    "        upsampled_fname = subj + '_' + task + '_' + acq + '_' + r + '_To_ObjEnc1MeanFunc_Upsampled.nii.gz'\n",
    "        in_file = op.join(mri_folder, original_fname)\n",
    "        out_file = op.join(mri_folder, upsampled_fname)\n",
    "\n",
    "        # sliceorder needs to be 1-based (see fakeout below)\n",
    "        slicetimes = np.flip(np.arange(0, tr_old, tr_old/n_slices))\n",
    "        \n",
    "        run_slicetime(\n",
    "        inpath=in_file,\n",
    "        outpath=out_file,\n",
    "        slicetimes=slicetimes,\n",
    "        tr_old=tr_old,\n",
    "        tr_new=tr_new,\n",
    "        )\n",
    "        \n",
    "        elapsed_time = time.time() - start_time\n",
    "\n",
    "        print(\n",
    "            '\\telapsed time: ',\n",
    "            f'{time.strftime(\"%H:%M:%S\", time.gmtime(elapsed_time))}'\n",
    "        )"
   ]
  },
  {
   "cell_type": "markdown",
   "id": "9ada976a-c3e1-417f-99b2-580b8ef4ab7f",
   "metadata": {},
   "source": [
    "## Run GLMsingle"
   ]
  },
  {
   "cell_type": "code",
   "execution_count": null,
   "id": "6a5250ac-306f-46b3-aee3-304c5b4b101b",
   "metadata": {
    "scrolled": true
   },
   "outputs": [],
   "source": [
    "for subj in subjects:\n",
    "    \n",
    "    # load runs and design files\n",
    "    data = []\n",
    "    designs = []\n",
    "    for r in ['1','2']:\n",
    "        nii_file = subj + '_' + task + '_' + acq + '_' + r + '_To_ObjEnc1MeanFunc.nii.gz'\n",
    "        fname = op.join(mri_folder, nii_file)\n",
    "        img = nib.load(fname)\n",
    "        data.append(img.get_fdata())\n",
    "        \n",
    "        design_file =  subj + '_' + task + '_SingleTrials_run_' + r + '.csv' \n",
    "        fname = op.join(design_folder, design_file)\n",
    "        design = pd.read_csv(fname).to_numpy()\n",
    "        designs.append(design)\n",
    "            \n",
    "    # create a directory for saving GLMsingle outputs\n",
    "    outputdir_glmsingle = op.join(base_folder,'01_MRI','fMRI_RSA','GLMsingle', subj, task + '_' + acq)\n",
    "    figuredir_glmsingle = op.join(outputdir_glmsingle, 'figures')\n",
    "    \n",
    "    print(subj)\n",
    "    start_time = time.time()\n",
    "    print(start_time)\n",
    "\n",
    "    if not op.exists(outputdir_glmsingle):\n",
    "\n",
    "        print(f'running GLMsingle...')\n",
    "\n",
    "        # run GLMsingle\n",
    "        results_glmsingle = glmsingle_obj.fit(\n",
    "           designs,\n",
    "           data,\n",
    "           stimdur,\n",
    "           tr,\n",
    "           outputdir=outputdir_glmsingle,\n",
    "           figuredir=figuredir_glmsingle\n",
    "        )\n",
    "\n",
    "    else:\n",
    "        print(f'loading existing GLMsingle outputs from directory:\\n\\t{outputdir_glmsingle}')\n",
    "\n",
    "        # load existing file outputs if they exist\n",
    "        results_glmsingle = dict()\n",
    "        results_glmsingle['typea'] = np.load(op.join(outputdir_glmsingle,'TYPEA_ONOFF.npy'),allow_pickle=True).item()\n",
    "        results_glmsingle['typeb'] = np.load(op.join(outputdir_glmsingle,'TYPEB_FITHRF.npy'),allow_pickle=True).item()\n",
    "        results_glmsingle['typec'] = np.load(op.join(outputdir_glmsingle,'TYPEC_FITHRF_GLMDENOISE.npy'),allow_pickle=True).item()\n",
    "        results_glmsingle['typed'] = np.load(op.join(outputdir_glmsingle,'TYPED_FITHRF_GLMDENOISE_RR.npy'),allow_pickle=True).item()\n",
    "\n",
    "    elapsed_time = time.time() - start_time\n",
    "\n",
    "    print(\n",
    "        '\\telapsed time: ',\n",
    "        f'{time.strftime(\"%H:%M:%S\", time.gmtime(elapsed_time))}'\n",
    "    )\n",
    "    "
   ]
  },
  {
   "cell_type": "code",
   "execution_count": null,
   "id": "deb381e8-492c-434d-a303-00cd9ea74968",
   "metadata": {},
   "outputs": [],
   "source": [
    "del results_glmsingle"
   ]
  },
  {
   "cell_type": "code",
   "execution_count": null,
   "id": "46337d49",
   "metadata": {},
   "outputs": [],
   "source": []
  }
 ],
 "metadata": {
  "kernelspec": {
   "display_name": "Python 3 (ipykernel)",
   "language": "python",
   "name": "python3"
  },
  "language_info": {
   "codemirror_mode": {
    "name": "ipython",
    "version": 3
   },
   "file_extension": ".py",
   "mimetype": "text/x-python",
   "name": "python",
   "nbconvert_exporter": "python",
   "pygments_lexer": "ipython3",
   "version": "3.9.13"
  }
 },
 "nbformat": 4,
 "nbformat_minor": 5
}
